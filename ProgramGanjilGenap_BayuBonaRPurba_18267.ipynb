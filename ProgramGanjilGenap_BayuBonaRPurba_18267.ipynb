{
 "cells": [
  {
   "cell_type": "markdown",
   "metadata": {},
   "source": [
    "**Program Ganjil Genap**"
   ]
  },
  {
   "cell_type": "markdown",
   "metadata": {},
   "source": [
    "Bayu Bona R Purba\n",
    "(18/424162/PA/18267)"
   ]
  },
  {
   "cell_type": "code",
   "execution_count": null,
   "metadata": {},
   "outputs": [],
   "source": [
    "print ('#####################PROGRAM GANJIL GENAP########################')\n",
    "print ('ayo bermain angka!Beri aku angka dan aku akan menebak angka itu ganjil atau genap...')\n",
    "while True :\n",
    "    try:\n",
    "        x=print(int('masukkan angka : '))\n",
    "        break\n",
    "    except :\n",
    "        print ('hey,aku kan minta angka :(')\n",
    "if x %2==0 :\n",
    "    print ('HmmmmmMmmmMmmmmMmmm,yayaya,angkamu termasuk angka genap!')\n",
    "elif x % 2 !=0 :\n",
    "    print ('Hm,ganjil sekali rasanya,sepertinya angkamu termasuk angka ganjil :p')\n",
    "print ('PROGRAM SELESAI')"
   ]
  }
 ],
 "metadata": {
  "kernelspec": {
   "display_name": "Python 3",
   "language": "python",
   "name": "python3"
  },
  "language_info": {
   "codemirror_mode": {
    "name": "ipython",
    "version": 3
   },
   "file_extension": ".py",
   "mimetype": "text/x-python",
   "name": "python",
   "nbconvert_exporter": "python",
   "pygments_lexer": "ipython3",
   "version": "3.7.1"
  }
 },
 "nbformat": 4,
 "nbformat_minor": 2
}
